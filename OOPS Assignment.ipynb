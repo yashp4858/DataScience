{
 "cells": [
  {
   "cell_type": "code",
   "execution_count": 3,
   "id": "39860029",
   "metadata": {},
   "outputs": [],
   "source": [
    "#Q1\n",
    "# classes are user-defined data types that act as the blueprint for individual objects, attributes and methods.\n",
    "# objects are instances of a class created with specifically defined data\n",
    "#example for class:\n",
    "class pwskills:\n",
    "    def __init__(self,name,email):\n",
    "        self.name = name\n",
    "        self.email = email\n",
    "    def studentdetails(self):\n",
    "        print(self.name,self.email)"
   ]
  },
  {
   "cell_type": "code",
   "execution_count": 5,
   "id": "b92686b3",
   "metadata": {},
   "outputs": [],
   "source": [
    "#Example of how to create object\n",
    "pw = pwskills(\"yash patel\",\"yashp49858@gmail.com\")"
   ]
  },
  {
   "cell_type": "code",
   "execution_count": 6,
   "id": "5f7fc80e",
   "metadata": {},
   "outputs": [
    {
     "data": {
      "text/plain": [
       "'yashp49858@gmail.com'"
      ]
     },
     "execution_count": 6,
     "metadata": {},
     "output_type": "execute_result"
    }
   ],
   "source": [
    "pw.email"
   ]
  },
  {
   "cell_type": "code",
   "execution_count": 7,
   "id": "a1960247",
   "metadata": {},
   "outputs": [
    {
     "data": {
      "text/plain": [
       "'yash patel'"
      ]
     },
     "execution_count": 7,
     "metadata": {},
     "output_type": "execute_result"
    }
   ],
   "source": [
    "pw.name"
   ]
  },
  {
   "cell_type": "code",
   "execution_count": 8,
   "id": "440f2567",
   "metadata": {},
   "outputs": [
    {
     "name": "stdout",
     "output_type": "stream",
     "text": [
      "yash patel yashp49858@gmail.com\n"
     ]
    }
   ],
   "source": [
    "pw.studentdetails()"
   ]
  },
  {
   "cell_type": "code",
   "execution_count": 9,
   "id": "b144d5dd",
   "metadata": {},
   "outputs": [],
   "source": [
    "#Q2\n",
    "#Abstraction\n",
    "#Encapsulation\n",
    "#Inheritance\n",
    "#Polymorphism"
   ]
  },
  {
   "cell_type": "code",
   "execution_count": 10,
   "id": "0cac5ab2",
   "metadata": {},
   "outputs": [],
   "source": [
    "#Q3\n",
    "# the __init__ function is called every time an object is created from a class.\n",
    "# example:\n",
    "\n",
    "class my_full_name():\n",
    "    \n",
    "    def __init__(self,firstName,middleName,lastName):\n",
    "        self.firstName=firstName\n",
    "        self.middleName=middleName\n",
    "        self.lastName=lastName\n",
    "    def my_full_name_is(self):\n",
    "        print(self.firstName,self.middleName,self.lastName)"
   ]
  },
  {
   "cell_type": "code",
   "execution_count": 11,
   "id": "6a3b1ac8",
   "metadata": {},
   "outputs": [],
   "source": [
    "# now calling the class with help of object\n",
    "obj1 = my_full_name(\"yash\",\"rohitbhai\",\"patel\")"
   ]
  },
  {
   "cell_type": "code",
   "execution_count": 12,
   "id": "cd293a3a",
   "metadata": {},
   "outputs": [
    {
     "name": "stdout",
     "output_type": "stream",
     "text": [
      "yash rohitbhai patel\n"
     ]
    }
   ],
   "source": [
    "obj1.my_full_name_is()"
   ]
  },
  {
   "cell_type": "code",
   "execution_count": 13,
   "id": "7d3ecb0d",
   "metadata": {},
   "outputs": [],
   "source": [
    "#Q4\n",
    "#The self variable is used to represent the instance of the class. It work as a reference to object"
   ]
  },
  {
   "cell_type": "code",
   "execution_count": 18,
   "id": "f4b3b454",
   "metadata": {},
   "outputs": [
    {
     "name": "stdout",
     "output_type": "stream",
     "text": [
      "This is my parent class\n"
     ]
    }
   ],
   "source": [
    "#Q5\n",
    "#Inheritance allows us to define a class that inherits all the methods and properties from another class.\n",
    "#Inheritance is also used for code reuseability.\n",
    "\n",
    "\n",
    "#example of single inheritance:\n",
    "\n",
    "class parent:\n",
    "    def test_parent(self):\n",
    "        print(\"This is my parent class\")\n",
    "        \n",
    "class child(parent):\n",
    "    pass\n",
    "\n",
    "child_obj = child()\n",
    "child_obj.test_parent()"
   ]
  },
  {
   "cell_type": "code",
   "execution_count": 23,
   "id": "38841f19",
   "metadata": {},
   "outputs": [
    {
     "name": "stdout",
     "output_type": "stream",
     "text": [
      "This is my class1\n"
     ]
    }
   ],
   "source": [
    "#Example of multilevel inheritance:\n",
    "\n",
    "class class1:\n",
    "    def test_class1(slef):\n",
    "        print(\"This is my class1\")\n",
    "\n",
    "class class2(class1):\n",
    "    def test_class2(slef):\n",
    "        print(\"This is my class2\")\n",
    "\n",
    "class class3(class2):\n",
    "    def test_class3(slef):\n",
    "        print(\"This is my class3\")\n",
    "        \n",
    "class3_obj = class3()\n",
    "class3_obj.test_class1()"
   ]
  },
  {
   "cell_type": "code",
   "execution_count": 27,
   "id": "3e33efed",
   "metadata": {},
   "outputs": [
    {
     "name": "stdout",
     "output_type": "stream",
     "text": [
      "This is my class2\n"
     ]
    }
   ],
   "source": [
    "#Example of multiple inheritance:\n",
    "\n",
    "class class1:\n",
    "    def test_class1(slef):\n",
    "        print(\"This is my class1\")\n",
    "\n",
    "        \n",
    "class class2:\n",
    "    def test_class2(slef):\n",
    "        print(\"This is my class2\")\n",
    "\n",
    "        \n",
    "class class3(class1,class2):\n",
    "    pass\n",
    "\n",
    "obj_class3 = class3()\n",
    "obj_class3.test_class2()"
   ]
  },
  {
   "cell_type": "code",
   "execution_count": 28,
   "id": "e25d1d26",
   "metadata": {},
   "outputs": [
    {
     "name": "stdout",
     "output_type": "stream",
     "text": [
      "This is my class1\n"
     ]
    }
   ],
   "source": [
    "obj_class3.test_class1()"
   ]
  },
  {
   "cell_type": "code",
   "execution_count": null,
   "id": "e80f7713",
   "metadata": {},
   "outputs": [],
   "source": []
  }
 ],
 "metadata": {
  "kernelspec": {
   "display_name": "Python 3 (ipykernel)",
   "language": "python",
   "name": "python3"
  },
  "language_info": {
   "codemirror_mode": {
    "name": "ipython",
    "version": 3
   },
   "file_extension": ".py",
   "mimetype": "text/x-python",
   "name": "python",
   "nbconvert_exporter": "python",
   "pygments_lexer": "ipython3",
   "version": "3.11.3"
  }
 },
 "nbformat": 4,
 "nbformat_minor": 5
}
