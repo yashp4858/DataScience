{
 "cells": [
  {
   "cell_type": "code",
   "execution_count": null,
   "id": "8bd45121",
   "metadata": {},
   "outputs": [],
   "source": [
    "#Q1\n",
    "# multiprocessing in python is a built-in package that allows the system to run multiple processes simultaneously.\n",
    "# multiprocessing is useful because multiprocessing can improve performance by decomposing a program into parallel executable tasks,multiprocessing improves the reliability of the system"
   ]
  },
  {
   "cell_type": "code",
   "execution_count": 2,
   "id": "6d32716a",
   "metadata": {},
   "outputs": [],
   "source": [
    "#Q2\n",
    "#Multiprocessing\n",
    "#1.multiprocessing helps you to increase computing power.\n",
    "#2.It allows you to execute multiple processes concurrently\n",
    "#3.multiprocessing allocates separate memory and resources for each process or program.\n",
    "\n",
    "#Multithreading\n",
    "#1.m,ultithreading helps you to create computing threads of a single process to increase computing power.\n",
    "#2.multiple threads of a single process are executed concurrently.\n",
    "#3.multithreading threads belonging to the same process share the same memory and resources as that of the process."
   ]
  },
  {
   "cell_type": "code",
   "execution_count": 7,
   "id": "e6e08f91",
   "metadata": {},
   "outputs": [],
   "source": [
    "#Q3\n",
    "import multiprocessing\n",
    "\n",
    "def test():\n",
    "    print(\"This is how we create a process using the multiprocessing module\")\n",
    "\n",
    "if __name__==\"__main__\":\n",
    "    m = multiprocessing.Process(target = test)\n",
    "    m.start()\n",
    "    m.join()"
   ]
  },
  {
   "cell_type": "code",
   "execution_count": 8,
   "id": "aa1ad4f1",
   "metadata": {},
   "outputs": [],
   "source": [
    "#Q4\n",
    "# the Pool class in multiprocessing can handle an enormous number of processes.\n",
    "#python multiprocessing pool can be used for parallel execution of a function across multiple input values.\n"
   ]
  },
  {
   "cell_type": "code",
   "execution_count": null,
   "id": "6b360ed0",
   "metadata": {},
   "outputs": [],
   "source": [
    "#Q5\n",
    "\n",
    "import multiprocessing\n",
    "\n",
    "def my_function(x):\n",
    "    return x**2\n",
    "\n",
    "if __name__==\"__main__\":\n",
    "    pool = multiprocessing.Pool(4)\n",
    "    \n",
    "    result = pool.map(my_function,range(10))\n",
    "    print(result)"
   ]
  },
  {
   "cell_type": "code",
   "execution_count": 13,
   "id": "0da424a6",
   "metadata": {},
   "outputs": [],
   "source": [
    "#Q6\n",
    "import multiprocessing\n",
    "\n",
    "numbers = [1,2,3,4]\n",
    "\n",
    "def print_number(number):\n",
    "    print(f\"This is number {number}\")\n",
    "\n",
    "    \n",
    "\n",
    "    \n",
    "    \n",
    "if __name__==\"__main__\":\n",
    "    \n",
    "        m1=multiprocessing.Process(target = print_number, args = (1,))\n",
    "        m2=multiprocessing.Process(target = print_number, args = (2,))\n",
    "        m3=multiprocessing.Process(target = print_number, args = (3,))\n",
    "        m4=multiprocessing.Process(target = print_number, args = (4,))\n",
    "        m1.start()\n",
    "        m2.start()\n",
    "        m3.start()\n",
    "        m4.start()\n",
    "        m1.join()\n",
    "        m2.join()\n",
    "        m3.join()\n",
    "        m4.join()\n"
   ]
  },
  {
   "cell_type": "code",
   "execution_count": null,
   "id": "70a50333",
   "metadata": {},
   "outputs": [],
   "source": []
  }
 ],
 "metadata": {
  "kernelspec": {
   "display_name": "Python 3 (ipykernel)",
   "language": "python",
   "name": "python3"
  },
  "language_info": {
   "codemirror_mode": {
    "name": "ipython",
    "version": 3
   },
   "file_extension": ".py",
   "mimetype": "text/x-python",
   "name": "python",
   "nbconvert_exporter": "python",
   "pygments_lexer": "ipython3",
   "version": "3.11.3"
  }
 },
 "nbformat": 4,
 "nbformat_minor": 5
}
