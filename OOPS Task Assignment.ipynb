{
 "cells": [
  {
   "cell_type": "code",
   "execution_count": 39,
   "id": "0446d227",
   "metadata": {},
   "outputs": [
    {
     "name": "stdout",
     "output_type": "stream",
     "text": [
      "Name of vehicle: tesla model-s\n",
      "Maximum speed: 200\n",
      "Average speed: 50\n",
      "The seating capacity of a tesla model-s is 5 passanger.\n"
     ]
    }
   ],
   "source": [
    "#Q1 and #Q2 combined\n",
    "class Vehicle:\n",
    "    def __init__(self, name_of_vehicle, max_speed, average_of_vehicle):\n",
    "        self.name_of_vehicle = name_of_vehicle\n",
    "        self.max_speed = max_speed\n",
    "        self.average_of_vehicle = average_of_vehicle\n",
    "\n",
    "    def print_vehicle_details(self):\n",
    "        print(\"Name of vehicle:\", self.name_of_vehicle)\n",
    "        print(\"Maximum speed:\", self.max_speed)\n",
    "        print(\"Average speed:\", self.average_of_vehicle)\n",
    "\n",
    "\n",
    "class Car(Vehicle):\n",
    "    def seating_capacity(self, capacity):\n",
    "        return f\"The seating capacity of a {self.name_of_vehicle} is {capacity} passanger.\"\n",
    "\n",
    "car1 = Car(\"tesla model-s\", 200, 50)\n",
    "car1.print_vehicle_details()\n",
    "print(car1.seating_capacity(5))"
   ]
  },
  {
   "cell_type": "code",
   "execution_count": 44,
   "id": "a3000a3f",
   "metadata": {},
   "outputs": [
    {
     "name": "stdout",
     "output_type": "stream",
     "text": [
      "This is my class1\n",
      "This is my class2\n"
     ]
    }
   ],
   "source": [
    "#Q3\n",
    "\n",
    "# When a class is derived from more than one base class it is called multiple inheritance.\n",
    "\n",
    "#example of multiple inheritance are:\n",
    "\n",
    "class class1:\n",
    "    def test_class1(slef):\n",
    "        print(\"This is my class1\")\n",
    "\n",
    "        \n",
    "class class2:\n",
    "    def test_class2(slef):\n",
    "        print(\"This is my class2\")\n",
    "\n",
    "        \n",
    "class class3(class1,class2):\n",
    "    pass\n",
    "\n",
    "\n",
    "obj_class3 = class3()\n",
    "obj_class3.test_class1()\n",
    "obj_class3.test_class2()"
   ]
  },
  {
   "cell_type": "code",
   "execution_count": 71,
   "id": "eeb2ab02",
   "metadata": {},
   "outputs": [
    {
     "data": {
      "text/plain": [
       "'yash patel'"
      ]
     },
     "execution_count": 71,
     "metadata": {},
     "output_type": "execute_result"
    }
   ],
   "source": [
    "#Q4\n",
    "#getter: a method that allows you to access an attribute in a given class.\n",
    "#setter: a method that allows you to set or mutate the value of an attribute in a class.\n",
    "\n",
    "#example of getter and setter are:\n",
    "\n",
    "class my_class():\n",
    "    def __init__(self,my_name):\n",
    "        self.my_name=my_name\n",
    "    @property\n",
    "    def name(self):\n",
    "        return self.my_name\n",
    "    @name.setter\n",
    "    def change_name(self,new_name):\n",
    "        self.my_name=new_name\n",
    "        \n",
    "obj1 = my_class(\"yash\") \n",
    "obj1.name\n",
    "obj1.change_name='yash patel'\n",
    "obj1.name"
   ]
  },
  {
   "cell_type": "code",
   "execution_count": 79,
   "id": "06347f42",
   "metadata": {},
   "outputs": [
    {
     "name": "stdout",
     "output_type": "stream",
     "text": [
      "i am animal\n",
      "bauu,bauu,baiuu\n",
      "meow,meow,mow\n"
     ]
    }
   ],
   "source": [
    "#Q5\n",
    "\n",
    "#method overriding allows a subclass to provide a specific implementation of a method that is already provided by its superclass,\n",
    "#it means sublcass can change the behaviour of the method wothout affecting the behaviour of parent class\n",
    "\n",
    "# example of method ovverriding are:\n",
    "\n",
    "class animal():\n",
    "    def speak(self):\n",
    "        print(\"i am animal\")\n",
    "class dog(animal):\n",
    "    def speak(self):\n",
    "        print(\"bauu,bauu,baiuu\")\n",
    "class cat(animal):\n",
    "    def speak(self):\n",
    "        print(\"meow,meow,mow\")\n",
    "        \n",
    "obj_animal = animal()\n",
    "obj_animal.speak()\n",
    "\n",
    "obj_dog = dog()\n",
    "obj_dog.speak()\n",
    "\n",
    "obj_cat = cat()\n",
    "obj_cat.speak()"
   ]
  },
  {
   "cell_type": "code",
   "execution_count": null,
   "id": "293dcb06",
   "metadata": {},
   "outputs": [],
   "source": []
  },
  {
   "cell_type": "code",
   "execution_count": null,
   "id": "a5bb1783",
   "metadata": {},
   "outputs": [],
   "source": []
  },
  {
   "cell_type": "code",
   "execution_count": null,
   "id": "4ac501df",
   "metadata": {},
   "outputs": [],
   "source": []
  }
 ],
 "metadata": {
  "kernelspec": {
   "display_name": "Python 3 (ipykernel)",
   "language": "python",
   "name": "python3"
  },
  "language_info": {
   "codemirror_mode": {
    "name": "ipython",
    "version": 3
   },
   "file_extension": ".py",
   "mimetype": "text/x-python",
   "name": "python",
   "nbconvert_exporter": "python",
   "pygments_lexer": "ipython3",
   "version": "3.11.3"
  }
 },
 "nbformat": 4,
 "nbformat_minor": 5
}
