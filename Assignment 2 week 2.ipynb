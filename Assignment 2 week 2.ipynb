{
 "cells": [
  {
   "cell_type": "code",
   "execution_count": null,
   "id": "37c41394",
   "metadata": {},
   "outputs": [],
   "source": [
    "#Q1:\n",
    "\"\"\"we can comments code like this\"\"\"#----> multiline comments\n",
    "'''we can comments code like this'''#----> multiline comments(#another form of multiline comments)\n",
    "#we can comments code like this----->single line comment\n",
    "\n",
    "#There are 2 different types of comments i.e multiline comments and single line comments"
   ]
  },
  {
   "cell_type": "code",
   "execution_count": 10,
   "id": "4147fb09",
   "metadata": {},
   "outputs": [],
   "source": [
    "#Q2:\n",
    "# a symbolic name that is reference or pointer\n",
    "'''for example'''\n",
    "n=300"
   ]
  },
  {
   "cell_type": "code",
   "execution_count": 24,
   "id": "05e58fae",
   "metadata": {},
   "outputs": [
    {
     "data": {
      "text/plain": [
       "list"
      ]
     },
     "execution_count": 24,
     "metadata": {},
     "output_type": "execute_result"
    }
   ],
   "source": [
    "#Q3:\n",
    "# with help of typecasting we can convert one data type into another data type\n",
    "# for example\n",
    "s='yash'#----> s is string , we can convert it into list  \n",
    "s1 = list(s)\n",
    "type(s1)"
   ]
  },
  {
   "cell_type": "code",
   "execution_count": null,
   "id": "9a226621",
   "metadata": {},
   "outputs": [],
   "source": [
    "#Q4:\n",
    "'''open the command line and type the word python than you can able to write python code to execute it just press enter\n",
    "it wwill show you result'''\n"
   ]
  },
  {
   "cell_type": "code",
   "execution_count": 25,
   "id": "f491baa1",
   "metadata": {},
   "outputs": [
    {
     "data": {
      "text/plain": [
       "[2, 3]"
      ]
     },
     "execution_count": 25,
     "metadata": {},
     "output_type": "execute_result"
    }
   ],
   "source": [
    "#Q5:\n",
    "\n",
    "my_list=[1,2,3,4,5]\n",
    "my_list[1:3]"
   ]
  },
  {
   "cell_type": "code",
   "execution_count": 29,
   "id": "7a3f9dd0",
   "metadata": {},
   "outputs": [
    {
     "data": {
      "text/plain": [
       "7.0"
      ]
     },
     "execution_count": 29,
     "metadata": {},
     "output_type": "execute_result"
    }
   ],
   "source": [
    "#Q6:\n",
    "#complex number in mathematics, which have both real and imaginary value are called complex number\n",
    "#for example(how to denote complex number in python)\n",
    "e=4+7j\n",
    "type(e)\n",
    "# where 4.0 is real number and 7.0 is imaginary number"
   ]
  },
  {
   "cell_type": "code",
   "execution_count": 30,
   "id": "fc80f151",
   "metadata": {},
   "outputs": [
    {
     "data": {
      "text/plain": [
       "int"
      ]
     },
     "execution_count": 30,
     "metadata": {},
     "output_type": "execute_result"
    }
   ],
   "source": [
    "#Q7:\n",
    "age = 25\n",
    "type(age)"
   ]
  },
  {
   "cell_type": "code",
   "execution_count": 33,
   "id": "54e638d4",
   "metadata": {},
   "outputs": [
    {
     "data": {
      "text/plain": [
       "float"
      ]
     },
     "execution_count": 33,
     "metadata": {},
     "output_type": "execute_result"
    }
   ],
   "source": [
    "#Q8:\n",
    "price = 9.99\n",
    "type(price)#---> this variable belog to float data type"
   ]
  },
  {
   "cell_type": "code",
   "execution_count": 36,
   "id": "851d4199",
   "metadata": {},
   "outputs": [
    {
     "name": "stdout",
     "output_type": "stream",
     "text": [
      "Yash Patel\n"
     ]
    }
   ],
   "source": [
    "#Q9:\n",
    "name = \"Yash Patel\"\n",
    "print(name)"
   ]
  },
  {
   "cell_type": "code",
   "execution_count": 37,
   "id": "0f363b19",
   "metadata": {},
   "outputs": [
    {
     "data": {
      "text/plain": [
       "'World'"
      ]
     },
     "execution_count": 37,
     "metadata": {},
     "output_type": "execute_result"
    }
   ],
   "source": [
    "#Q10:\n",
    "string = \"Hello, World!\"\n",
    "string[7:12]"
   ]
  },
  {
   "cell_type": "code",
   "execution_count": 40,
   "id": "07c578a9",
   "metadata": {},
   "outputs": [
    {
     "data": {
      "text/plain": [
       "bool"
      ]
     },
     "execution_count": 40,
     "metadata": {},
     "output_type": "execute_result"
    }
   ],
   "source": [
    "#Q11:\n",
    "is_student = True\n",
    "type(is_student)"
   ]
  },
  {
   "cell_type": "code",
   "execution_count": null,
   "id": "af6edc78",
   "metadata": {},
   "outputs": [],
   "source": []
  }
 ],
 "metadata": {
  "kernelspec": {
   "display_name": "Python 3 (ipykernel)",
   "language": "python",
   "name": "python3"
  },
  "language_info": {
   "codemirror_mode": {
    "name": "ipython",
    "version": 3
   },
   "file_extension": ".py",
   "mimetype": "text/x-python",
   "name": "python",
   "nbconvert_exporter": "python",
   "pygments_lexer": "ipython3",
   "version": "3.11.3"
  }
 },
 "nbformat": 4,
 "nbformat_minor": 5
}
