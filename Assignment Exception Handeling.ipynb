{
 "cells": [
  {
   "cell_type": "code",
   "execution_count": 1,
   "id": "c68f6495",
   "metadata": {},
   "outputs": [],
   "source": [
    "#Q1\n",
    "#An exception is an event, which occurs during the execution of a program that disrupts the normal flow of the program's instructions.\n",
    "#error mostly happen at compile time like syntax error however it can also happen at run time, but Exception always occur at runtime"
   ]
  },
  {
   "cell_type": "code",
   "execution_count": 6,
   "id": "1521d773",
   "metadata": {},
   "outputs": [
    {
     "ename": "FileNotFoundError",
     "evalue": "[Errno 2] No such file or directory: 'test.txt'",
     "output_type": "error",
     "traceback": [
      "\u001b[1;31m---------------------------------------------------------------------------\u001b[0m",
      "\u001b[1;31mFileNotFoundError\u001b[0m                         Traceback (most recent call last)",
      "Cell \u001b[1;32mIn[6], line 3\u001b[0m\n\u001b[0;32m      1\u001b[0m \u001b[38;5;66;03m#Q2\u001b[39;00m\n\u001b[0;32m      2\u001b[0m \u001b[38;5;66;03m#when exception occurs and if it's not handled it will distrub the flow of program or execution of program will terminate.\u001b[39;00m\n\u001b[1;32m----> 3\u001b[0m f \u001b[38;5;241m=\u001b[39m \u001b[38;5;28;43mopen\u001b[39;49m\u001b[43m(\u001b[49m\u001b[38;5;124;43m\"\u001b[39;49m\u001b[38;5;124;43mtest.txt\u001b[39;49m\u001b[38;5;124;43m\"\u001b[39;49m\u001b[43m,\u001b[49m\u001b[38;5;124;43m\"\u001b[39;49m\u001b[38;5;124;43mr\u001b[39;49m\u001b[38;5;124;43m\"\u001b[39;49m\u001b[43m)\u001b[49m\n\u001b[0;32m      4\u001b[0m \u001b[38;5;66;03m# as we see above line of code will give FileNotFoundError , but if we see syntax wise it is corrected, that why handeling of exception is necessary\u001b[39;00m\n",
      "File \u001b[1;32m~\\AppData\\Local\\Programs\\Python\\Python311\\Lib\\site-packages\\IPython\\core\\interactiveshell.py:284\u001b[0m, in \u001b[0;36m_modified_open\u001b[1;34m(file, *args, **kwargs)\u001b[0m\n\u001b[0;32m    277\u001b[0m \u001b[38;5;28;01mif\u001b[39;00m file \u001b[38;5;129;01min\u001b[39;00m {\u001b[38;5;241m0\u001b[39m, \u001b[38;5;241m1\u001b[39m, \u001b[38;5;241m2\u001b[39m}:\n\u001b[0;32m    278\u001b[0m     \u001b[38;5;28;01mraise\u001b[39;00m \u001b[38;5;167;01mValueError\u001b[39;00m(\n\u001b[0;32m    279\u001b[0m         \u001b[38;5;124mf\u001b[39m\u001b[38;5;124m\"\u001b[39m\u001b[38;5;124mIPython won\u001b[39m\u001b[38;5;124m'\u001b[39m\u001b[38;5;124mt let you open fd=\u001b[39m\u001b[38;5;132;01m{\u001b[39;00mfile\u001b[38;5;132;01m}\u001b[39;00m\u001b[38;5;124m by default \u001b[39m\u001b[38;5;124m\"\u001b[39m\n\u001b[0;32m    280\u001b[0m         \u001b[38;5;124m\"\u001b[39m\u001b[38;5;124mas it is likely to crash IPython. If you know what you are doing, \u001b[39m\u001b[38;5;124m\"\u001b[39m\n\u001b[0;32m    281\u001b[0m         \u001b[38;5;124m\"\u001b[39m\u001b[38;5;124myou can use builtins\u001b[39m\u001b[38;5;124m'\u001b[39m\u001b[38;5;124m open.\u001b[39m\u001b[38;5;124m\"\u001b[39m\n\u001b[0;32m    282\u001b[0m     )\n\u001b[1;32m--> 284\u001b[0m \u001b[38;5;28;01mreturn\u001b[39;00m \u001b[43mio_open\u001b[49m\u001b[43m(\u001b[49m\u001b[43mfile\u001b[49m\u001b[43m,\u001b[49m\u001b[43m \u001b[49m\u001b[38;5;241;43m*\u001b[39;49m\u001b[43margs\u001b[49m\u001b[43m,\u001b[49m\u001b[43m \u001b[49m\u001b[38;5;241;43m*\u001b[39;49m\u001b[38;5;241;43m*\u001b[39;49m\u001b[43mkwargs\u001b[49m\u001b[43m)\u001b[49m\n",
      "\u001b[1;31mFileNotFoundError\u001b[0m: [Errno 2] No such file or directory: 'test.txt'"
     ]
    }
   ],
   "source": [
    "#Q2\n",
    "#when exception occurs and if it's not handled it will distrub the flow of program or execution of program will terminate.\n",
    "f = open(\"test.txt\",\"r\")\n",
    "# as we see above line of code will give FileNotFoundError , but if we see syntax wise it is corrected that why handeling of exception is necessary"
   ]
  },
  {
   "cell_type": "code",
   "execution_count": 8,
   "id": "cf75a26c",
   "metadata": {},
   "outputs": [
    {
     "name": "stdout",
     "output_type": "stream",
     "text": [
      "division by zero\n"
     ]
    }
   ],
   "source": [
    "#Q3\n",
    "# to catch --> try statements is used\n",
    "# to handel --> except block is used\n",
    "#example:\n",
    "\n",
    "try:\n",
    "    a=10\n",
    "    10/0\n",
    "except ZeroDivisionError as e:\n",
    "    print(e)"
   ]
  },
  {
   "cell_type": "code",
   "execution_count": 11,
   "id": "968c5762",
   "metadata": {},
   "outputs": [
    {
     "name": "stdout",
     "output_type": "stream",
     "text": [
      "Finaaly block will executed wether exception occured or not \n"
     ]
    }
   ],
   "source": [
    "#Q4\n",
    "#example for a and b\n",
    "try:\n",
    "    f = open(\"test1.txt\",\"w\")\n",
    "    f.write(\"Hello\")\n",
    "except FileNotFoundError as e:\n",
    "    print(e)\n",
    "else:\n",
    "    f.close()\n",
    "finally:\n",
    "    print(\"Finaaly block will executed wether exception occured or not \")\n",
    "\n"
   ]
  },
  {
   "cell_type": "code",
   "execution_count": 19,
   "id": "7cfc35d7",
   "metadata": {},
   "outputs": [
    {
     "name": "stdout",
     "output_type": "stream",
     "text": [
      "PLease enter your age3334\n",
      "age is too high\n"
     ]
    }
   ],
   "source": [
    "#example of c\n",
    "\n",
    "class validateage(Exception):\n",
    "    def __init__(self,msg):\n",
    "        self.msg = msg\n",
    "def validate_age(age):\n",
    "    if age<0:\n",
    "        raise validateage(\"age should not be less than zero\")\n",
    "    elif age>150:\n",
    "        raise validateage(\"age is too high\")\n",
    "    else:\n",
    "        print(\"your age is valid\")\n",
    "try:\n",
    "    age = int(input(\"PLease enter your age\"))\n",
    "    validate_age(age)\n",
    "except validateage as e:\n",
    "    print(e)"
   ]
  },
  {
   "cell_type": "code",
   "execution_count": 21,
   "id": "0a115a99",
   "metadata": {},
   "outputs": [
    {
     "name": "stdout",
     "output_type": "stream",
     "text": [
      "PLease enter your age22\n",
      "your age is valid\n"
     ]
    }
   ],
   "source": [
    "#Q5\n",
    "#custom exception in user define exception which mean it is created by user and it is derived from super class Exception\n",
    "#custom exception provide us the flexibility to add attributes and methods that are not part of standard python and we can also add information related about our project related problem\n",
    "#example of custom exception\n",
    "\n",
    "class validateage(Exception):\n",
    "    def __init__(self,msg):\n",
    "        self.msg = msg\n",
    "def validate_age(age):\n",
    "    if age<0:\n",
    "        raise validateage(\"age should not be less than zero\")\n",
    "    elif age>150:\n",
    "        raise validateage(\"age is too high\")\n",
    "    else:\n",
    "        print(\"your age is valid\")\n",
    "try:\n",
    "    age = int(input(\"PLease enter your age\"))\n",
    "    validate_age(age)\n",
    "except validateage as e:\n",
    "    print(e)"
   ]
  },
  {
   "cell_type": "code",
   "execution_count": 24,
   "id": "2d0f01bc",
   "metadata": {},
   "outputs": [
    {
     "name": "stdout",
     "output_type": "stream",
     "text": [
      "Enter your height in cm :123\n",
      "you cannot sit at this ride because your height is less than 150 cm\n"
     ]
    }
   ],
   "source": [
    "#Q6\n",
    "class validateHeightAtRide(Exception):\n",
    "    def __init__(self,msg):\n",
    "        self.msg=msg\n",
    "def validate_height_at_ride(height):\n",
    "    if height>=150:\n",
    "        raise validateHeightAtRide(\"you can sit in this ride at park\")\n",
    "    elif height<0:\n",
    "        raise validateHeightAtRide(\"enter your valid height\")\n",
    "    else:\n",
    "        print(\"you cannot sit at this ride because your height is less than 150 cm\")\n",
    "try:\n",
    "    height = int(input(\"Enter your height in cm :\"))\n",
    "    validate_height_at_ride(height)\n",
    "except validateHeightAtRide as e:\n",
    "    print(e)"
   ]
  },
  {
   "cell_type": "code",
   "execution_count": null,
   "id": "bd456674",
   "metadata": {},
   "outputs": [],
   "source": []
  }
 ],
 "metadata": {
  "kernelspec": {
   "display_name": "Python 3 (ipykernel)",
   "language": "python",
   "name": "python3"
  },
  "language_info": {
   "codemirror_mode": {
    "name": "ipython",
    "version": 3
   },
   "file_extension": ".py",
   "mimetype": "text/x-python",
   "name": "python",
   "nbconvert_exporter": "python",
   "pygments_lexer": "ipython3",
   "version": "3.11.3"
  }
 },
 "nbformat": 4,
 "nbformat_minor": 5
}
