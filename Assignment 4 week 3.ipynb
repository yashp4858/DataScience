{
 "cells": [
  {
   "cell_type": "code",
   "execution_count": 52,
   "id": "c87a9d6c",
   "metadata": {},
   "outputs": [
    {
     "name": "stdout",
     "output_type": "stream",
     "text": [
      "('Virat Kohli', 24936)\n",
      "('Jack Kallis', 25534)\n",
      "('Ricky Ponting', 27483)\n",
      "('Sachin Tendulkar', 34357)\n"
     ]
    }
   ],
   "source": [
    "#Q1\n",
    "data = [('Sachin Tendulkar', 34357), ('Ricky Ponting', 27483), ('Jack Kallis', 25534), ('Virat Kohli', 24936)]\n",
    "\n",
    "sorted_data = sorted(data, key=lambda x: x[1])\n",
    "\n",
    "for item in sorted_data:\n",
    "    print(item)"
   ]
  },
  {
   "cell_type": "code",
   "execution_count": 50,
   "id": "a80c54f2",
   "metadata": {},
   "outputs": [
    {
     "name": "stdout",
     "output_type": "stream",
     "text": [
      "[1, 4, 9, 16, 25, 36, 49, 64, 81, 100]\n"
     ]
    }
   ],
   "source": [
    "#Q2\n",
    "number2 = [1, 2, 3, 4, 5, 6, 7, 8, 9, 10]\n",
    "ans2 = list(map(lambda x:x**2,number2))\n",
    "print(ans2)"
   ]
  },
  {
   "cell_type": "code",
   "execution_count": 49,
   "id": "8bc2a33c",
   "metadata": {},
   "outputs": [
    {
     "name": "stdout",
     "output_type": "stream",
     "text": [
      "('1', '2', '3', '4', '5', '6', '7', '8', '9', '10')\n"
     ]
    }
   ],
   "source": [
    "#Q3\n",
    "list3 = [1, 2, 3, 4, 5, 6, 7, 8, 9, 10]\n",
    "ans3 = tuple(map(lambda x:x,list3))\n",
    "result_tuple = tuple(map(str,ans3))\n",
    "print(result_tuple)"
   ]
  },
  {
   "cell_type": "code",
   "execution_count": 34,
   "id": "4f6a85a3",
   "metadata": {},
   "outputs": [
    {
     "name": "stdout",
     "output_type": "stream",
     "text": [
      "15511210043330985984000000\n"
     ]
    }
   ],
   "source": [
    "#Q4\n",
    "from functools import reduce\n",
    "number4=[1,2,3,4,5,6,7,8,9,10,11,12,13,14,15,16,17,18,19,20,21,22,23,24,25]\n",
    "ans4 = reduce(lambda x,y:x*y,number4)\n",
    "print(ans4)"
   ]
  },
  {
   "cell_type": "code",
   "execution_count": 29,
   "id": "b4fc13b0",
   "metadata": {},
   "outputs": [
    {
     "name": "stdout",
     "output_type": "stream",
     "text": [
      "[6, 60, 90, 120]\n"
     ]
    }
   ],
   "source": [
    "#Q5\n",
    "\n",
    "number5=[2, 3, 6, 9, 27, 60, 90, 120, 55, 46]\n",
    "ans5 = list(filter(lambda x:x%2==0 and x%3==0,number5))\n",
    "print(ans5)"
   ]
  },
  {
   "cell_type": "code",
   "execution_count": 33,
   "id": "a553e1f3",
   "metadata": {},
   "outputs": [
    {
     "name": "stdout",
     "output_type": "stream",
     "text": [
      "['php', 'aba', 'radar', 'level']\n"
     ]
    }
   ],
   "source": [
    "#Q6\n",
    "list6 = ['python', 'php', 'aba', 'radar', 'level']\n",
    "ans6 = list(filter(lambda x:(x == \"\".join(reversed(x))),list6))\n",
    "print(ans6)"
   ]
  }
 ],
 "metadata": {
  "kernelspec": {
   "display_name": "Python 3 (ipykernel)",
   "language": "python",
   "name": "python3"
  },
  "language_info": {
   "codemirror_mode": {
    "name": "ipython",
    "version": 3
   },
   "file_extension": ".py",
   "mimetype": "text/x-python",
   "name": "python",
   "nbconvert_exporter": "python",
   "pygments_lexer": "ipython3",
   "version": "3.11.3"
  }
 },
 "nbformat": 4,
 "nbformat_minor": 5
}
