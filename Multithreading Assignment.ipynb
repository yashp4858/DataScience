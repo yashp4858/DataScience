{
 "cells": [
  {
   "cell_type": "code",
   "execution_count": 1,
   "id": "6d8f55c6",
   "metadata": {},
   "outputs": [],
   "source": [
    "#Q1\n",
    "#Multithreading refers to concurrently executing multiple threads by rapidly switching the control of the CPU between threads.\n",
    "#multithreading enables the efficient utilization of the resources as the threads share the data space and memory.\n",
    "import threading # module is used in python to handle threads"
   ]
  },
  {
   "cell_type": "code",
   "execution_count": 2,
   "id": "e53d9ffc",
   "metadata": {},
   "outputs": [],
   "source": [
    "#Q2\n",
    "# threading module is used for creating, controlling and managing threads in python.\n",
    "# activeCount() --> return the number of thread object that are active.\n",
    "#currentThread() --> returns the number of thread objects in the caller's thread control.\n",
    "#enumerate() --> retrun a list of all thread object that are currently alive."
   ]
  },
  {
   "cell_type": "code",
   "execution_count": 3,
   "id": "ec439383",
   "metadata": {},
   "outputs": [],
   "source": [
    "#Q3\n",
    "#run() --> This method is executes any target function belonging to a given thread object that is now active.\n",
    "#start() --> This method invokes the run() method in a separate thread of control.\n",
    "#join() -->  This method delays a program's flow of execution until the target thread has been completely read.\n",
    "#isAlive() --> This method is used to check wether that thread is alive or not.It means thread is still running or not."
   ]
  },
  {
   "cell_type": "code",
   "execution_count": 52,
   "id": "655cdb6b",
   "metadata": {
    "scrolled": true
   },
   "outputs": [
    {
     "name": "stdout",
     "output_type": "stream",
     "text": [
      "square: 1\n",
      "square: 4\n",
      "square: 9\n",
      "square: 16\n",
      "square: 25\n",
      "square: 36\n",
      "square: 49\n",
      "square: 64\n",
      "square: 81\n",
      "square: 100\n",
      "cube: 1\n",
      "cube: 8\n",
      "cube: 27\n",
      "cube: 64\n",
      "cube: 125\n",
      "cube: 216\n",
      "cube: 343\n",
      "cube: 512\n",
      "cube: 729\n",
      "cube: 1000\n"
     ]
    }
   ],
   "source": [
    "#Q4\n",
    "import threading\n",
    "\n",
    "def square(numbers):\n",
    "    for num in numbers:\n",
    "        square = num**2\n",
    "        print(f\"square: {square}\")\n",
    "def cube(numbers):\n",
    "    for num in numbers:\n",
    "        cube = num**3\n",
    "        print(f\"cube: {cube}\")\n",
    "numbers = [1,2,3,4,5,6,7,8,9,10]\n",
    "\n",
    "thread1 = threading.Thread(target=square,args=(numbers,))\n",
    "thread2 = threading.Thread(target=cube,args=(numbers,))\n",
    "thread1.start()\n",
    "thread2.start()\n",
    "thread1.join()\n",
    "thread2.join()"
   ]
  },
  {
   "cell_type": "code",
   "execution_count": 35,
   "id": "870c86ee",
   "metadata": {},
   "outputs": [],
   "source": [
    "#Q5\n",
    "#advantages of multithreading:-\n",
    "\n",
    "#1 Tghreading Minimized the system resource usage.\n",
    "#2 Thread Utilized the multiprocessor architecture very well.\n",
    "#3 Resource Sharing.\n",
    "#4 Responsiveness -->  even if a section is blocked or executing a lengthy process, increasing user responsiveness.\n",
    "\n",
    "#disadvantages of multithreading:-\n",
    "\n",
    "#1.It needs more careful synchronization.\n",
    "#2It can consume a large space of stocks of blocked threads.\n",
    "#3It needs support for thread or process.\n",
    "#4If a parent process has several threads for proper process functioning, the child processes should also be multithreaded because they may be required.\n",
    "#5 It imposes context switching overhead."
   ]
  },
  {
   "cell_type": "code",
   "execution_count": 36,
   "id": "e5319733",
   "metadata": {},
   "outputs": [],
   "source": [
    "#Q6\n",
    "# Deadlock --> Deadlock is a condition in which two or more threads are blocked forever because they are waiting for each other.\n",
    "# Race Condition --> A race condition occurs when two or more threads try to access a shared variable simultaneously that lead to unpredictable outcomes."
   ]
  }
 ],
 "metadata": {
  "kernelspec": {
   "display_name": "Python 3 (ipykernel)",
   "language": "python",
   "name": "python3"
  },
  "language_info": {
   "codemirror_mode": {
    "name": "ipython",
    "version": 3
   },
   "file_extension": ".py",
   "mimetype": "text/x-python",
   "name": "python",
   "nbconvert_exporter": "python",
   "pygments_lexer": "ipython3",
   "version": "3.11.3"
  }
 },
 "nbformat": 4,
 "nbformat_minor": 5
}
