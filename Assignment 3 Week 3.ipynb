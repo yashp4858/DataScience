{
 "cells": [
  {
   "cell_type": "code",
   "execution_count": 19,
   "id": "4de2b375",
   "metadata": {},
   "outputs": [
    {
     "name": "stdout",
     "output_type": "stream",
     "text": [
      "1\n",
      "3\n",
      "5\n",
      "7\n",
      "9\n",
      "11\n",
      "13\n",
      "15\n",
      "17\n",
      "19\n",
      "21\n",
      "23\n",
      "25\n"
     ]
    }
   ],
   "source": [
    "#Q1\n",
    "#def keyword is used to create a function.\n",
    "\n",
    "def odd_number():\n",
    "    for i in range(1,26):\n",
    "        if i%2!=0:\n",
    "            print(i)\n",
    "            \n",
    "            \n",
    "odd_number()"
   ]
  },
  {
   "cell_type": "code",
   "execution_count": 38,
   "id": "73d9bc41",
   "metadata": {},
   "outputs": [
    {
     "data": {
      "text/plain": [
       "(1, 2, 3, 4, 5, 6, 7, 8, 9, 10)"
      ]
     },
     "execution_count": 38,
     "metadata": {},
     "output_type": "execute_result"
    }
   ],
   "source": [
    "#Q2\n",
    "# *args is used to give multiple argument as a input in function\n",
    "#**kwargs is used to give multiple dictionary as a input in function\n",
    "\n",
    "def test1(*args):\n",
    "    return args\n",
    "test1(1,2,3,4,5,6,7,8,9,10)"
   ]
  },
  {
   "cell_type": "code",
   "execution_count": 39,
   "id": "f8ff32da",
   "metadata": {},
   "outputs": [
    {
     "data": {
      "text/plain": [
       "{'a': 32, 'b': 98, 'c': 966, 'd': 'yash', 'e': 'helloworld'}"
      ]
     },
     "execution_count": 39,
     "metadata": {},
     "output_type": "execute_result"
    }
   ],
   "source": [
    "def test2(**kwargs):\n",
    "    return kwargs\n",
    "test2(a=32,b=98,c=966,d=\"yash\",e=\"helloworld\")"
   ]
  },
  {
   "cell_type": "code",
   "execution_count": 50,
   "id": "6f7fcbef",
   "metadata": {},
   "outputs": [
    {
     "name": "stdout",
     "output_type": "stream",
     "text": [
      "2\n",
      "4\n",
      "6\n",
      "8\n",
      "10\n"
     ]
    }
   ],
   "source": [
    "#Q3\n",
    "#Iterator is a object that contains a countable number of value\n",
    "#iter() method is used to initialise th iterator object\n",
    "\n",
    "list3 = [2, 4, 6, 8, 10, 12, 14, 16, 18, 20]\n",
    "int_iteration = iter(list3)\n",
    "print(next(int_iteration))\n",
    "print(next(int_iteration))\n",
    "print(next(int_iteration))\n",
    "print(next(int_iteration))\n",
    "print(next(int_iteration))"
   ]
  },
  {
   "cell_type": "code",
   "execution_count": 28,
   "id": "b3d5366a",
   "metadata": {},
   "outputs": [
    {
     "data": {
      "text/plain": [
       "[0, 1, 1, 2, 3, 5, 8, 13, 21, 34]"
      ]
     },
     "execution_count": 28,
     "metadata": {},
     "output_type": "execute_result"
    }
   ],
   "source": [
    "#Q4\n",
    "\n",
    "#Generator fucntion in python is special type of function which return iterator object with a sequence of values.\n",
    "\n",
    "#yield keyword is used because it is memory efficient, yield do not terminate the execution of function it only pauses\n",
    "#the execution of function, it is also used to create a generator function\n",
    "\n",
    "def test_fibo(n):\n",
    "    a,b=0,1\n",
    "    for i in range(n):\n",
    "        yield a\n",
    "        a,b=b,a+b\n",
    "list(test_fibo(10))"
   ]
  },
  {
   "cell_type": "code",
   "execution_count": 55,
   "id": "88469e20",
   "metadata": {},
   "outputs": [
    {
     "name": "stdout",
     "output_type": "stream",
     "text": [
      "2\n",
      "3\n",
      "5\n",
      "7\n",
      "11\n",
      "13\n",
      "17\n",
      "19\n",
      "23\n",
      "29\n",
      "31\n",
      "37\n",
      "41\n",
      "43\n",
      "47\n",
      "53\n",
      "59\n",
      "61\n",
      "67\n",
      "71\n"
     ]
    }
   ],
   "source": [
    "#Q5\n",
    "\n",
    "def prime_generator():\n",
    "    yield 2 \n",
    "    primes = [2]  \n",
    "    num = 3  \n",
    "    \n",
    "    while num < 1000:\n",
    "        is_prime = True\n",
    "        \n",
    "        for prime in primes:\n",
    "            if prime * prime > num:\n",
    "                break\n",
    "            \n",
    "            if num % prime == 0:\n",
    "                is_prime = False\n",
    "                break\n",
    "        \n",
    "        if is_prime:\n",
    "            primes.append(num)\n",
    "            yield num\n",
    "        \n",
    "        num += 2 \n",
    "\n",
    "prime_gen = prime_generator()\n",
    "\n",
    "for _ in range(20):\n",
    "    prime = next(prime_gen)\n",
    "    print(prime)"
   ]
  },
  {
   "cell_type": "code",
   "execution_count": null,
   "id": "cf270a9e",
   "metadata": {},
   "outputs": [],
   "source": []
  }
 ],
 "metadata": {
  "kernelspec": {
   "display_name": "Python 3 (ipykernel)",
   "language": "python",
   "name": "python3"
  },
  "language_info": {
   "codemirror_mode": {
    "name": "ipython",
    "version": 3
   },
   "file_extension": ".py",
   "mimetype": "text/x-python",
   "name": "python",
   "nbconvert_exporter": "python",
   "pygments_lexer": "ipython3",
   "version": "3.11.3"
  }
 },
 "nbformat": 4,
 "nbformat_minor": 5
}
