{
 "cells": [
  {
   "cell_type": "code",
   "execution_count": 3,
   "id": "6cf9ea0d-d7d1-49c9-9718-6d99aec1a235",
   "metadata": {},
   "outputs": [],
   "source": [
    "#Q1. Create One Variable Conatining Following Type of Data\n",
    "a = 'hello world'\n",
    "b = [1,2,3,4,5,'hello',\"World\",4+9j]\n",
    "c = 3.456394625\n",
    "d = (\"apple\",\"cherry\",\"Mango\")"
   ]
  },
  {
   "cell_type": "code",
   "execution_count": 4,
   "id": "81fad1ab-4a98-4923-951a-ddb9d574c1fc",
   "metadata": {},
   "outputs": [],
   "source": [
    "#Q2.\n",
    "#(1)string\n",
    "#(2)str\n",
    "#(3)list \n",
    "#(4)int"
   ]
  },
  {
   "cell_type": "code",
   "execution_count": 5,
   "id": "936ac818-d57c-4302-b73e-a4e563cc3e86",
   "metadata": {},
   "outputs": [],
   "source": [
    "#Q3.\n",
    "#(1) / ---> this operator is used to divide two number. \n",
    "#for example 10/5=2.0\n",
    "\n",
    "#(2) % ---> this operator is used to find reminder by dividing two value\n",
    "#for exaple 3%2=1\n",
    "\n",
    "#(3) // ---> this operator is used to get floor value by dividing two value\n",
    "# for example 5//2\n",
    "\n",
    "#(4) ** ---> this operator is used to get the power of number \n",
    "# for example 2**3=8"
   ]
  },
  {
   "cell_type": "code",
   "execution_count": 3,
   "id": "2ba2aec0-3ac6-405c-9c8e-c000d0e16d3d",
   "metadata": {},
   "outputs": [
    {
     "name": "stdout",
     "output_type": "stream",
     "text": [
      "2\n",
      "6\n",
      "4\n",
      "3\n",
      "5\n",
      "Hello\n",
      "WORLD\n",
      "(4+1j)\n",
      "True\n",
      "False\n"
     ]
    },
    {
     "data": {
      "text/plain": [
       "list"
      ]
     },
     "execution_count": 3,
     "metadata": {},
     "output_type": "execute_result"
    }
   ],
   "source": [
    "#Q4.\n",
    "\n",
    "list1=[2,6,4,3,5,'Hello','WORLD',4+1j,True,False]\n",
    "for i in list1:\n",
    "    print(i)\n",
    "type(list1)"
   ]
  },
  {
   "cell_type": "code",
   "execution_count": 2,
   "id": "a3e74770-bebe-46f7-b82e-ab1c95ff516d",
   "metadata": {},
   "outputs": [
    {
     "name": "stdin",
     "output_type": "stream",
     "text": [
      "Enter the dividend:  100\n",
      "Enter the divisor:  5\n"
     ]
    },
    {
     "name": "stdout",
     "output_type": "stream",
     "text": [
      "A is divisible by B and can be divided 2 times.\n"
     ]
    }
   ],
   "source": [
    "# Input the two numbers to check for divisibility\n",
    "A = int(input(\"Enter the dividend: \"))\n",
    "B = int(input(\"Enter the divisor: \"))\n",
    "\n",
    "# Initialize a variable to count the number of times A is divisible by B\n",
    "count = 0\n",
    "\n",
    "# Use a while loop to check for divisibility\n",
    "while A % B == 0:\n",
    "    count += 1\n",
    "    A = A // B\n",
    "\n",
    "# Check if A is completely divisible by B or not\n",
    "if count > 0:\n",
    "    print(\"A is divisible by B and can be divided\", count, \"times.\")\n",
    "else:\n",
    "    print(\"A is not completely divisible by B.\")"
   ]
  },
  {
   "cell_type": "code",
   "execution_count": 1,
   "id": "609b5d14-8e87-4502-9dd6-5fd8d17efb33",
   "metadata": {},
   "outputs": [
    {
     "name": "stdout",
     "output_type": "stream",
     "text": [
      "3\n",
      "6\n",
      "9\n",
      "12\n",
      "15\n",
      "18\n",
      "21\n",
      "24\n"
     ]
    }
   ],
   "source": [
    "#Q6\n",
    "\n",
    "list2=[1,2,3,4,5,6,7,8,9,10,11,12,13,14,15,16,17,18,19,20,21,22,23,24,25]\n",
    "for i in list2:\n",
    "    if(i%3==0):\n",
    "        print(i)"
   ]
  },
  {
   "cell_type": "code",
   "execution_count": null,
   "id": "4567f06e-6d75-4642-a522-1f19f896c07f",
   "metadata": {},
   "outputs": [],
   "source": [
    "#Q7\n",
    "\n",
    "'''data types which can be changed or modify is called mutable data type'''\n",
    "\n",
    "\"\"\"data types which can't be changed or modify is called immutable data type\"\"\"\n",
    "\n",
    "#below are the example of mutable data type \n",
    "\n",
    "list3=[1,2,3,8,5,'hello','world']\n",
    "list3[3]=4\n",
    "list3"
   ]
  },
  {
   "cell_type": "code",
   "execution_count": null,
   "id": "5d2e3fb6-37e1-4c54-97ef-a636edd2f3d9",
   "metadata": {},
   "outputs": [],
   "source": [
    "# below are the example of immutable data type\n",
    "name = 'hallo'\n",
    "name[1] = 'e'\n",
    "#we will get error because string object don't support item assignment"
   ]
  }
 ],
 "metadata": {
  "kernelspec": {
   "display_name": "Python 3 (ipykernel)",
   "language": "python",
   "name": "python3"
  },
  "language_info": {
   "codemirror_mode": {
    "name": "ipython",
    "version": 3
   },
   "file_extension": ".py",
   "mimetype": "text/x-python",
   "name": "python",
   "nbconvert_exporter": "python",
   "pygments_lexer": "ipython3",
   "version": "3.10.8"
  }
 },
 "nbformat": 4,
 "nbformat_minor": 5
}
